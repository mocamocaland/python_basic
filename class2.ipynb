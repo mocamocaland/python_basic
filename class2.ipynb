{
 "cells": [
  {
   "cell_type": "code",
   "execution_count": 1,
   "metadata": {},
   "outputs": [],
   "source": [
    "import math"
   ]
  },
  {
   "cell_type": "code",
   "execution_count": 11,
   "metadata": {},
   "outputs": [
    {
     "name": "stdout",
     "output_type": "stream",
     "text": [
      "1620円\n",
      "3024円\n"
     ]
    }
   ],
   "source": [
    "class CalcFee:\n",
    "    def __init__(self):\n",
    "        self.shipping_fee = 1000\n",
    "        self.tax_rate = 0.08\n",
    "        self.value = 0\n",
    "        \n",
    "    def addItem(self, price):\n",
    "        self.value += price\n",
    "    \n",
    "    def calc(self):\n",
    "        \n",
    "        total = self.value + self.shipping_fee\n",
    "        tax = math.ceil(total * self.tax_rate)\n",
    "        v = math.ceil(total + tax)\n",
    "        return v\n",
    "    \n",
    "fee1 = CalcFee()\n",
    "fee1.addItem(500)\n",
    "print(str(fee1.calc()) + \"円\")\n",
    "\n",
    "fee2 = CalcFee()\n",
    "fee2.shipping_fee = 1500\n",
    "fee2.addItem(800)\n",
    "fee2.addItem(500)\n",
    "print(str(fee2.calc()) + \"円\")"
   ]
  },
  {
   "cell_type": "code",
   "execution_count": null,
   "metadata": {},
   "outputs": [],
   "source": []
  }
 ],
 "metadata": {
  "kernelspec": {
   "display_name": "Python 3",
   "language": "python",
   "name": "python3"
  },
  "language_info": {
   "codemirror_mode": {
    "name": "ipython",
    "version": 3
   },
   "file_extension": ".py",
   "mimetype": "text/x-python",
   "name": "python",
   "nbconvert_exporter": "python",
   "pygments_lexer": "ipython3",
   "version": "3.6.3"
  }
 },
 "nbformat": 4,
 "nbformat_minor": 2
}
